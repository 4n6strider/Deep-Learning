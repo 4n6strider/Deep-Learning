{
 "cells": [
  {
   "cell_type": "code",
   "execution_count": 4,
   "metadata": {},
   "outputs": [
    {
     "name": "stdout",
     "output_type": "stream",
     "text": [
      "Extracting MNIST/data/train-images-idx3-ubyte.gz\n",
      "Extracting MNIST/data/train-labels-idx1-ubyte.gz\n",
      "Extracting MNIST/data/t10k-images-idx3-ubyte.gz\n",
      "Extracting MNIST/data/t10k-labels-idx1-ubyte.gz\n"
     ]
    }
   ],
   "source": [
    "import tensorflow as tf #imports tensorflow as tf. Tensorflow is an n-dimensional matrix, just like a 1-D vector, 2-D array, 3-D array etc.\n",
    "import numpy as np #imports numpy as np. Numpy is used for basic matrix multiplication, addition.\n",
    "from tensorflow.examples.tutorials.mnist import input_data #imports mnist input data from tensorflow examples. \n",
    "#Mnist data set consists of images of numbers from 0-9, each image is a 28*28 dimensional. There are total 60k training images and 10k test images.\n",
    "mnist = input_data.read_data_sets(\"MNIST/data\", one_hot = True) #using input data call read data sets from a folder MNIST/data and store in mnist.\n",
    "#one hot vector is used which means at once only one class will be true. Since our images have labels 0-9 that means out of all 10 classes only 1 class will be true at a time rest all will be zero."
   ]
  },
  {
   "cell_type": "code",
   "execution_count": 5,
   "metadata": {
    "collapsed": true
   },
   "outputs": [],
   "source": [
    "from matplotlib import pyplot as plt\n",
    "%matplotlib inline"
   ]
  },
  {
   "cell_type": "code",
   "execution_count": 6,
   "metadata": {},
   "outputs": [
    {
     "data": {
      "image/png": "[encoded data removed]",
      "text/plain": [
       "<matplotlib.figure.Figure at 0x7f1ed03eca90>"
      ]
     },
     "metadata": {},
     "output_type": "display_data"
    },
    {
     "data": {
      "image/png": "[encoded data removed]",
      "text/plain": [
       "<matplotlib.figure.Figure at 0x7f1ecff32cd0>"
      ]
     },
     "metadata": {},
     "output_type": "display_data"
    },
    {
     "data": {
      "image/png": "[encoded data removed]",
      "text/plain": [
       "<matplotlib.figure.Figure at 0x7f1ecc610ed0>"
      ]
     },
     "metadata": {},
     "output_type": "display_data"
    },
    {
     "data": {
      "image/png": "[encoded data removed]",
      "text/plain": [
       "<matplotlib.figure.Figure at 0x7f1ecc5aa890>"
      ]
     },
     "metadata": {},
     "output_type": "display_data"
    }
   ],
   "source": [
    "nsample = 4\n",
    "rand_idx = np.random.randint(mnist.train.images.shape[0], size=nsample)\n",
    "\n",
    "for i in rand_idx:\n",
    "    curr_img = np.reshape(mnist.train.images[i, :], (28,28))\n",
    "    curr_lbl = np.argmax(mnist.train.labels[i, :])\n",
    "    plt.matshow(curr_img, cmap=plt.get_cmap('gray'))\n",
    "    plt.title(\"\"+str(i)+\"th training image \"\n",
    "              + \"(label: \" + str(curr_lbl) + \")\")\n",
    "    plt.show()"
   ]
  },
  {
   "cell_type": "code",
   "execution_count": 2,
   "metadata": {
    "collapsed": true
   },
   "outputs": [],
   "source": [
    "# Parameters\n",
    "learning_rate = 0.001 #learning rate is used to reduce our cost/loss/cross entropy and helps in converging or reaching the local optima. The learning rate should neither be too high or too low it should be a balanced rate. \n",
    "training_iters = 200000 ##number of times we train our network, its like a loop which trains our network, calculates cost, optimizes it in every epoch, also in every epoch we take \n",
    "batch_size = 128 #this means that our training images will be divided in a fixed batch size and at every batch it will take a fixed number of images and train them. \n",
    "display_step = 10 #after how many epochs we want to output our desired results on screen\n",
    "\n",
    "\n",
    "# Network Parameters\n",
    "n_input = 784 # MNIST data input (img shape: 28*28)\n",
    "n_classes = 10 # MNIST total classes (0-9 digits)\n",
    "dropout = 0.75 # Dropout, probability to keep units, basically it helps in preventing overfitting our data\n",
    "\n",
    "# tf Graph input\n",
    "#placeholder is like a variable to which we will assign data later on. It will allow us to do operations and build our computation graph without feeding in data.\n",
    "#x will hold the training images in form of matrix,the dimensions of x will be in our case None*784, that is why we use None which allows us to vary the dimensionality of our rows.\n",
    "#we use float to define its type.\n",
    "x = tf.placeholder(\"float\", [None, n_input])\n",
    "#similarly y will hold the label of the training images in form matrix which will be a None*10 matrix. None will be replaced by the number of images we want to train on.\n",
    "y = tf.placeholder(\"float\", [None, n_classes])\n",
    "keep_prob = tf.placeholder(tf.float32) #dropout (keep probability), this drops some part of our network, so that it helps in backpropogation as computation increases and it also reduces vanishing gradient problem."
   ]
  },
  {
   "cell_type": "code",
   "execution_count": null,
   "metadata": {
    "collapsed": true
   },
   "outputs": [],
   "source": [
    " #Input Image (28*28*1) -> Conv1(32 5*5*1) ->Conv1 (28*28*32)-> Maxpooling(2*2) -> Conv1 (14*14*32)\n",
    " \n",
    " #Conv1 (14*14*32) -> Conv2 (64 5*5*32) -> Conv2 (14*14*64) -> Maxpooling(2*2) -> Conv2 (7*7*64)\n",
    "    \n",
    " #Conv2 (7*7*64) -> Fully Connected (1024 7*7*64) -> Output Layer (1024 * 10) -> Predict Class    "
   ]
  },
  {
   "cell_type": "code",
   "execution_count": 3,
   "metadata": {
    "collapsed": true
   },
   "outputs": [],
   "source": [
    "# Create some wrappers for simplicity\n",
    "#Note the strides are set to 1 in all dimensions.The first and last stride must always be 1,because the first is for the image-number and the last is for the input-channel.the last is for the input-channel.\n",
    "#For e.g. strides=[1, 2, 2, 1] would mean that the filter is moved 2 pixels across the x- and y-axis of the image.\n",
    "#The padding is set to 'SAME' which means the input image is padded with zeroes so the size of the output is the same.\n",
    "def conv2d(x, W, b, strides=1):\n",
    "    # Conv2D wrapper, with bias and relu activation\n",
    "    x = tf.nn.conv2d(x, W, strides=[1, strides, strides, 1], padding='SAME')\n",
    "    x = tf.nn.bias_add(x, b)\n",
    "    return tf.nn.relu(x) #apply relu to the image after doing the dot product with the filter and adding bias.\n",
    "\n",
    "#This is 2x2 max-pooling, which means that we consider 2x2 windows and select the largest value in each window. Then we move 2 pixels to the next window.\n",
    "def maxpool2d(x, k=2):\n",
    "    # MaxPool2D wrapper\n",
    "    return tf.nn.max_pool(x, ksize=[1, k, k, 1], strides=[1, k, k, 1],padding='SAME')\n",
    "\n",
    "\n",
    "# Create model\n",
    "def conv_net(x, weights, biases, dropout):\n",
    "    # Reshape input picture\n",
    "    #x will recieve a tensor of dimension (None, 784), 784 dimension after flattening the image. \n",
    "    # 28,28 is the size of the image; the dimension will reduce. 1 is the number of channels in input image.\n",
    "    # -1 squashes/flattens the 28*28 input image in to a 1*784 column vector.\n",
    "    x = tf.reshape(x, shape=[-1, 28, 28, 1])\n",
    "\n",
    "    # Convolution Layer\n",
    "    # here we call the conv2d function we had defined above and pass the input image x, weights wc1 and bias bc1.\n",
    "    conv1 = conv2d(x, weights['wc1'], biases['bc1'])\n",
    "    # Max Pooling (down-sampling), this chooses the max value from a 2*2 matrix window and outputs a 14*14 matrix from a 28*28 matrix.\n",
    "    conv1 = maxpool2d(conv1, k=2)\n",
    "\n",
    "    # Convolution Layer\n",
    "    # here we call the conv2d function we had defined above and pass the input image x, weights wc2 and bias bc2.\n",
    "    conv2 = conv2d(conv1, weights['wc2'], biases['bc2'])\n",
    "    # Max Pooling (down-sampling), this chooses the max value from a 2*2 matrix window and outputs a 7*7 matrix from a 14*14 matrix.\n",
    "    conv2 = maxpool2d(conv2, k=2)\n",
    "\n",
    "    # Fully connected layer\n",
    "    # Reshape conv2 output to fit fully connected layer input\n",
    "    fc1 = tf.reshape(conv2, [-1, weights['wd1'].get_shape().as_list()[0]])\n",
    "    fc1 = tf.add(tf.matmul(fc1, weights['wd1']), biases['bd1'])\n",
    "    fc1 = tf.nn.relu(fc1)\n",
    "    # Apply Dropout\n",
    "    fc1 = tf.nn.dropout(fc1, dropout)\n",
    "\n",
    "    # Output, class prediction\n",
    "    # finally we multiply the fully connected layer with the weights and add a bias term, return the value and get a class prediction \n",
    "    out = tf.add(tf.matmul(fc1, weights['out']), biases['out'])\n",
    "    return out"
   ]
  },
  {
   "cell_type": "code",
   "execution_count": 6,
   "metadata": {
    "collapsed": true
   },
   "outputs": [],
   "source": [
    "# Store layers weight & bias\n",
    "#We pass 32 5*5*1 filter through our input image which is wc1, then we pass another 64 5*5*32 filter after which we pass a 1024 7*7*64 fully connected layer and finally a output layer with 1024*10 dimensions. We use 10 because we have 0-9 10 different classes in our model.\n",
    "#Our input image has 1 channel since its a gray scale image and so our first filter has 5*5*1 dimensions, if it would have been a RGB color image then the filter dimension would have been 5*5*3.\n",
    "weights = {\n",
    "    # 5x5 conv, 1 input, 32 outputs\n",
    "    'wc1': tf.Variable(tf.random_normal([5, 5, 1, 32])),\n",
    "    # 5x5 conv, 32 inputs, 64 outputs\n",
    "    'wc2': tf.Variable(tf.random_normal([5, 5, 32, 64])),\n",
    "    # fully connected, 7*7*64 inputs, 1024 outputs, since after max pooling on 28*28 we get 14*14 and then again pooling it to 7*7 we apply a fully connected layer with dimensions of 7*7*64.\n",
    "    'wd1': tf.Variable(tf.random_normal([7*7*64, 1024])),\n",
    "    # 1024 inputs, 10 outputs (class prediction)\n",
    "    'out': tf.Variable(tf.random_normal([1024, n_classes]))\n",
    "}\n",
    "#similarly we have 2 bias for our filters, 1 for the fully connected layer and 1 for the output layer.\n",
    "biases = {\n",
    "    'bc1': tf.Variable(tf.random_normal([32])),\n",
    "    'bc2': tf.Variable(tf.random_normal([64])),\n",
    "    'bd1': tf.Variable(tf.random_normal([1024])),\n",
    "    'out': tf.Variable(tf.random_normal([n_classes]))\n",
    "}\n",
    "\n",
    "# Construct model and we call the conv_net function by passing in x, weights and biases and keep_probability.\n",
    "pred = conv_net(x, weights, biases, keep_prob)\n",
    "\n",
    "# Define loss and optimizer. We use softmax loss function which is known as cross entropy loss function.\n",
    "cost = tf.reduce_mean(tf.nn.softmax_cross_entropy_with_logits(logits=pred, labels=y))\n",
    "#for optimization we use Adam optimizer, we can use Gradient Descent as well.\n",
    "optimizer = tf.train.AdamOptimizer(learning_rate=learning_rate).minimize(cost)\n",
    "\n",
    "\n",
    "# Evaluate model\n",
    "# Test model, here we check whether the index of the maximum value of the predicted image is equal to the actual labelled image and both will be a column vector.\n",
    "correct_prediction = tf.equal(tf.argmax(pred, 1), tf.argmax(y, 1))\n",
    "#calculate accuracy across the correct_prediction using reduce_mean. For eg: if we have 10 classes and out of which only 4 classes predicted result was true so we will get something like 4/10 as accuracy.\n",
    "accuracy = tf.reduce_mean(tf.cast(correct_prediction, tf.float32))\n",
    "\n",
    "# Initializing the variables\n",
    "init = tf.global_variables_initializer()"
   ]
  },
  {
   "cell_type": "code",
   "execution_count": 7,
   "metadata": {},
   "outputs": [
    {
     "name": "stdout",
     "output_type": "stream",
     "text": [
      "Iter 1280, Minibatch Loss= 31540.179688, Training Accuracy= 0.33594\n",
      "Iter 2560, Minibatch Loss= 10024.594727, Training Accuracy= 0.53906\n",
      "Iter 3840, Minibatch Loss= 7291.990234, Training Accuracy= 0.59375\n",
      "Iter 5120, Minibatch Loss= 5686.883789, Training Accuracy= 0.71875\n",
      "Iter 6400, Minibatch Loss= 6301.837891, Training Accuracy= 0.75000\n",
      "Iter 7680, Minibatch Loss= 2591.784668, Training Accuracy= 0.82812\n",
      "Iter 8960, Minibatch Loss= 3040.357910, Training Accuracy= 0.87500\n",
      "Iter 10240, Minibatch Loss= 2686.399170, Training Accuracy= 0.85156\n",
      "Iter 11520, Minibatch Loss= 2853.360840, Training Accuracy= 0.85156\n",
      "Iter 12800, Minibatch Loss= 2102.417236, Training Accuracy= 0.86719\n",
      "Iter 14080, Minibatch Loss= 2391.098633, Training Accuracy= 0.85938\n",
      "Iter 15360, Minibatch Loss= 1695.261963, Training Accuracy= 0.89844\n",
      "Iter 16640, Minibatch Loss= 1993.429565, Training Accuracy= 0.87500\n",
      "Iter 17920, Minibatch Loss= 1933.289307, Training Accuracy= 0.86719\n",
      "Iter 19200, Minibatch Loss= 2038.959229, Training Accuracy= 0.91406\n",
      "Iter 20480, Minibatch Loss= 2301.020264, Training Accuracy= 0.87500\n",
      "Iter 21760, Minibatch Loss= 1152.213135, Training Accuracy= 0.93750\n",
      "Iter 23040, Minibatch Loss= 1909.710815, Training Accuracy= 0.91406\n",
      "Iter 24320, Minibatch Loss= 3123.617920, Training Accuracy= 0.87500\n",
      "Iter 25600, Minibatch Loss= 1931.083496, Training Accuracy= 0.92188\n",
      "Iter 26880, Minibatch Loss= 1098.478271, Training Accuracy= 0.95312\n",
      "Iter 28160, Minibatch Loss= 1334.411011, Training Accuracy= 0.91406\n",
      "Iter 29440, Minibatch Loss= 1802.676880, Training Accuracy= 0.89844\n",
      "Iter 30720, Minibatch Loss= 656.918945, Training Accuracy= 0.92969\n",
      "Iter 32000, Minibatch Loss= 1127.556152, Training Accuracy= 0.92969\n",
      "Iter 33280, Minibatch Loss= 1085.382690, Training Accuracy= 0.91406\n",
      "Iter 34560, Minibatch Loss= 1083.996338, Training Accuracy= 0.92188\n",
      "Iter 35840, Minibatch Loss= 1406.930298, Training Accuracy= 0.93750\n",
      "Iter 37120, Minibatch Loss= 683.603760, Training Accuracy= 0.93750\n",
      "Iter 38400, Minibatch Loss= 1392.308960, Training Accuracy= 0.90625\n",
      "Iter 39680, Minibatch Loss= 1372.543091, Training Accuracy= 0.91406\n",
      "Iter 40960, Minibatch Loss= 535.370117, Training Accuracy= 0.94531\n",
      "Iter 42240, Minibatch Loss= 1408.181641, Training Accuracy= 0.91406\n",
      "Iter 43520, Minibatch Loss= 1092.865234, Training Accuracy= 0.95312\n",
      "Iter 44800, Minibatch Loss= 646.227417, Training Accuracy= 0.94531\n",
      "Iter 46080, Minibatch Loss= 1022.309998, Training Accuracy= 0.91406\n",
      "Iter 47360, Minibatch Loss= 736.623901, Training Accuracy= 0.94531\n",
      "Iter 48640, Minibatch Loss= 914.813232, Training Accuracy= 0.92969\n",
      "Iter 49920, Minibatch Loss= 836.482849, Training Accuracy= 0.93750\n",
      "Iter 51200, Minibatch Loss= 143.315353, Training Accuracy= 0.97656\n",
      "Iter 52480, Minibatch Loss= 359.074951, Training Accuracy= 0.94531\n",
      "Iter 53760, Minibatch Loss= 540.182495, Training Accuracy= 0.96094\n",
      "Iter 55040, Minibatch Loss= 184.435913, Training Accuracy= 0.98438\n",
      "Iter 56320, Minibatch Loss= 283.548706, Training Accuracy= 0.96875\n",
      "Iter 57600, Minibatch Loss= 784.775818, Training Accuracy= 0.92188\n",
      "Iter 58880, Minibatch Loss= 533.455139, Training Accuracy= 0.95312\n",
      "Iter 60160, Minibatch Loss= 1076.420898, Training Accuracy= 0.94531\n",
      "Iter 61440, Minibatch Loss= 419.556030, Training Accuracy= 0.94531\n",
      "Iter 62720, Minibatch Loss= 500.569641, Training Accuracy= 0.95312\n",
      "Iter 64000, Minibatch Loss= 533.521301, Training Accuracy= 0.93750\n",
      "Iter 65280, Minibatch Loss= 309.480591, Training Accuracy= 0.96094\n",
      "Iter 66560, Minibatch Loss= 441.446838, Training Accuracy= 0.93750\n",
      "Iter 67840, Minibatch Loss= 565.569824, Training Accuracy= 0.95312\n",
      "Iter 69120, Minibatch Loss= 319.299896, Training Accuracy= 0.96875\n",
      "Iter 70400, Minibatch Loss= 572.854370, Training Accuracy= 0.96094\n",
      "Iter 71680, Minibatch Loss= 368.369446, Training Accuracy= 0.96094\n",
      "Iter 72960, Minibatch Loss= 580.041260, Training Accuracy= 0.96875\n",
      "Iter 74240, Minibatch Loss= 487.809052, Training Accuracy= 0.96094\n",
      "Iter 75520, Minibatch Loss= 451.643250, Training Accuracy= 0.96094\n",
      "Iter 76800, Minibatch Loss= 50.068649, Training Accuracy= 0.98438\n",
      "Iter 78080, Minibatch Loss= 401.764160, Training Accuracy= 0.94531\n",
      "Iter 79360, Minibatch Loss= 0.000000, Training Accuracy= 1.00000\n",
      "Iter 80640, Minibatch Loss= 643.459961, Training Accuracy= 0.95312\n",
      "Iter 81920, Minibatch Loss= 700.643433, Training Accuracy= 0.95312\n",
      "Iter 83200, Minibatch Loss= 585.430847, Training Accuracy= 0.96094\n",
      "Iter 84480, Minibatch Loss= 816.522217, Training Accuracy= 0.96875\n",
      "Iter 85760, Minibatch Loss= 357.611572, Training Accuracy= 0.96094\n",
      "Iter 87040, Minibatch Loss= 324.462280, Training Accuracy= 0.96875\n",
      "Iter 88320, Minibatch Loss= 181.259247, Training Accuracy= 0.96094\n",
      "Iter 89600, Minibatch Loss= 486.246704, Training Accuracy= 0.94531\n",
      "Iter 90880, Minibatch Loss= 595.817017, Training Accuracy= 0.92969\n",
      "Iter 92160, Minibatch Loss= 503.650818, Training Accuracy= 0.94531\n",
      "Iter 93440, Minibatch Loss= 486.948395, Training Accuracy= 0.96875\n",
      "Iter 94720, Minibatch Loss= 648.636047, Training Accuracy= 0.96875\n",
      "Iter 96000, Minibatch Loss= 257.890717, Training Accuracy= 0.96875\n",
      "Iter 97280, Minibatch Loss= 613.068359, Training Accuracy= 0.95312\n",
      "Iter 98560, Minibatch Loss= 500.759766, Training Accuracy= 0.96094\n",
      "Iter 99840, Minibatch Loss= 318.451141, Training Accuracy= 0.93750\n",
      "Iter 101120, Minibatch Loss= 533.584473, Training Accuracy= 0.96094\n",
      "Iter 102400, Minibatch Loss= 163.934921, Training Accuracy= 0.97656\n",
      "Iter 103680, Minibatch Loss= 133.708313, Training Accuracy= 0.97656\n",
      "Iter 104960, Minibatch Loss= 291.945129, Training Accuracy= 0.95312\n",
      "Iter 106240, Minibatch Loss= 392.741577, Training Accuracy= 0.92188\n",
      "Iter 107520, Minibatch Loss= 573.417114, Training Accuracy= 0.97656\n",
      "Iter 108800, Minibatch Loss= 302.843567, Training Accuracy= 0.96094\n",
      "Iter 110080, Minibatch Loss= 184.546951, Training Accuracy= 0.97656\n",
      "Iter 111360, Minibatch Loss= 158.656128, Training Accuracy= 0.98438\n",
      "Iter 112640, Minibatch Loss= 440.818359, Training Accuracy= 0.92969\n",
      "Iter 113920, Minibatch Loss= 108.167740, Training Accuracy= 0.98438\n",
      "Iter 115200, Minibatch Loss= 247.794922, Training Accuracy= 0.96094\n",
      "Iter 116480, Minibatch Loss= 274.271271, Training Accuracy= 0.96094\n",
      "Iter 117760, Minibatch Loss= 164.571487, Training Accuracy= 0.96875\n",
      "Iter 119040, Minibatch Loss= 99.337303, Training Accuracy= 0.99219\n",
      "Iter 120320, Minibatch Loss= 162.401581, Training Accuracy= 0.95312\n",
      "Iter 121600, Minibatch Loss= 137.631790, Training Accuracy= 0.96875\n",
      "Iter 122880, Minibatch Loss= 311.191223, Training Accuracy= 0.95312\n",
      "Iter 124160, Minibatch Loss= 133.738205, Training Accuracy= 0.96875\n",
      "Iter 125440, Minibatch Loss= 364.166687, Training Accuracy= 0.95312\n",
      "Iter 126720, Minibatch Loss= 292.839966, Training Accuracy= 0.96094\n",
      "Iter 128000, Minibatch Loss= 132.429840, Training Accuracy= 0.96094\n",
      "Iter 129280, Minibatch Loss= 310.926392, Training Accuracy= 0.95312\n",
      "Iter 130560, Minibatch Loss= 307.123993, Training Accuracy= 0.97656\n",
      "Iter 131840, Minibatch Loss= 45.111160, Training Accuracy= 0.98438\n",
      "Iter 133120, Minibatch Loss= 227.258179, Training Accuracy= 0.97656\n",
      "Iter 134400, Minibatch Loss= 42.990753, Training Accuracy= 0.98438\n",
      "Iter 135680, Minibatch Loss= 281.738708, Training Accuracy= 0.96875\n",
      "Iter 136960, Minibatch Loss= 77.213531, Training Accuracy= 0.97656\n",
      "Iter 138240, Minibatch Loss= 247.707855, Training Accuracy= 0.97656\n",
      "Iter 139520, Minibatch Loss= 447.767548, Training Accuracy= 0.94531\n",
      "Iter 140800, Minibatch Loss= 79.416969, Training Accuracy= 0.96875\n",
      "Iter 142080, Minibatch Loss= 180.866104, Training Accuracy= 0.95312\n",
      "Iter 143360, Minibatch Loss= 188.863800, Training Accuracy= 0.98438\n",
      "Iter 144640, Minibatch Loss= 94.145889, Training Accuracy= 0.97656\n",
      "Iter 145920, Minibatch Loss= 119.133713, Training Accuracy= 0.98438\n",
      "Iter 147200, Minibatch Loss= 332.276947, Training Accuracy= 0.96094\n",
      "Iter 148480, Minibatch Loss= 124.882492, Training Accuracy= 0.96875\n",
      "Iter 149760, Minibatch Loss= 228.463150, Training Accuracy= 0.98438\n",
      "Iter 151040, Minibatch Loss= 547.978882, Training Accuracy= 0.93750\n",
      "Iter 152320, Minibatch Loss= 248.812286, Training Accuracy= 0.96094\n",
      "Iter 153600, Minibatch Loss= 129.168655, Training Accuracy= 0.96094\n",
      "Iter 154880, Minibatch Loss= 315.828125, Training Accuracy= 0.96875\n",
      "Iter 156160, Minibatch Loss= 257.262695, Training Accuracy= 0.97656\n"
     ]
    },
    {
     "name": "stdout",
     "output_type": "stream",
     "text": [
      "Iter 157440, Minibatch Loss= 123.597115, Training Accuracy= 0.97656\n",
      "Iter 158720, Minibatch Loss= 51.359531, Training Accuracy= 0.97656\n",
      "Iter 160000, Minibatch Loss= 42.420990, Training Accuracy= 0.99219\n",
      "Iter 161280, Minibatch Loss= 140.845337, Training Accuracy= 0.98438\n",
      "Iter 162560, Minibatch Loss= 307.216980, Training Accuracy= 0.96875\n",
      "Iter 163840, Minibatch Loss= 67.892838, Training Accuracy= 0.98438\n",
      "Iter 165120, Minibatch Loss= 28.960442, Training Accuracy= 0.99219\n",
      "Iter 166400, Minibatch Loss= 130.503799, Training Accuracy= 0.96094\n",
      "Iter 167680, Minibatch Loss= 6.974297, Training Accuracy= 0.99219\n",
      "Iter 168960, Minibatch Loss= 123.338348, Training Accuracy= 0.96875\n",
      "Iter 170240, Minibatch Loss= 116.928535, Training Accuracy= 0.98438\n",
      "Iter 171520, Minibatch Loss= 517.482605, Training Accuracy= 0.96094\n",
      "Iter 172800, Minibatch Loss= 332.341858, Training Accuracy= 0.99219\n",
      "Iter 174080, Minibatch Loss= 203.065445, Training Accuracy= 0.95312\n",
      "Iter 175360, Minibatch Loss= 162.362946, Training Accuracy= 0.97656\n",
      "Iter 176640, Minibatch Loss= 361.192261, Training Accuracy= 0.96875\n",
      "Iter 177920, Minibatch Loss= 96.489235, Training Accuracy= 0.96875\n",
      "Iter 179200, Minibatch Loss= 142.502197, Training Accuracy= 0.97656\n",
      "Iter 180480, Minibatch Loss= 7.850983, Training Accuracy= 0.99219\n",
      "Iter 181760, Minibatch Loss= 157.779831, Training Accuracy= 0.98438\n",
      "Iter 183040, Minibatch Loss= 431.841034, Training Accuracy= 0.94531\n",
      "Iter 184320, Minibatch Loss= 70.724617, Training Accuracy= 0.99219\n",
      "Iter 185600, Minibatch Loss= 27.284670, Training Accuracy= 0.98438\n",
      "Iter 186880, Minibatch Loss= 33.038658, Training Accuracy= 0.99219\n",
      "Iter 188160, Minibatch Loss= 225.488297, Training Accuracy= 0.96875\n",
      "Iter 189440, Minibatch Loss= 266.069397, Training Accuracy= 0.95312\n",
      "Iter 190720, Minibatch Loss= 6.994904, Training Accuracy= 0.99219\n",
      "Iter 192000, Minibatch Loss= 163.728180, Training Accuracy= 0.97656\n",
      "Iter 193280, Minibatch Loss= 197.818680, Training Accuracy= 0.96875\n",
      "Iter 194560, Minibatch Loss= 205.734833, Training Accuracy= 0.96875\n",
      "Iter 195840, Minibatch Loss= 168.608612, Training Accuracy= 0.97656\n",
      "Iter 197120, Minibatch Loss= 35.664322, Training Accuracy= 0.97656\n",
      "Iter 198400, Minibatch Loss= 168.571609, Training Accuracy= 0.96094\n",
      "Iter 199680, Minibatch Loss= 32.822113, Training Accuracy= 0.99219\n",
      "Optimization Finished!\n",
      "('Testing Accuracy:', 0.97600001)\n"
     ]
    }
   ],
   "source": [
    "# Launch the graph. #this is a class that runs all the tensorflow operations and launches the graph in a session. All the operations have to be within the indentation. \n",
    "with tf.Session() as sess:\n",
    "    sess.run(init) #sess.run(init), runs the variables that were initialised in the previous step and evaluates the tensor \n",
    "\n",
    "#instead of using for loop we use while loop and intialize step = 1 and at every time step we increment step = step + 1.\n",
    "#since our batch size is 128 and display step is 10 so we display our output for only those Iterations where the Step after dividing by the display_Step leaves a remainder zero.\n",
    "#we then input the images in batch_x and their respective labels in batch_y and run an optimizer by feeding in x, y, and dropout. Here are placeholders x,y,and keep_prob gets their value.\n",
    "#after that we display the Iteration number, the Minibatch loss and the training accuracy by calling the cost and the accuracy function.\n",
    "    step = 1\n",
    "    # Keep training until reach max iterations\n",
    "    while step * batch_size < training_iters:\n",
    "        batch_x, batch_y = mnist.train.next_batch(batch_size)\n",
    "        # Run optimization op (backprop), we use keep_prob to drop some part of the network and as dropout is 0.75, so it will keep 75% of the network and drop the 25%, which helps in reducing the computational complexity and vanishing gradient problem while backpropogating through the network.\n",
    "        sess.run(optimizer, feed_dict={x: batch_x, y: batch_y,\n",
    "                                       keep_prob: dropout})\n",
    "        if step % display_step == 0:\n",
    "            # Calculate batch loss and accuracy\n",
    "            loss, acc = sess.run([cost, accuracy], feed_dict={x: batch_x,\n",
    "                                                              y: batch_y,\n",
    "                                                              keep_prob: 1.})\n",
    "            print(\"Iter \" + str(step*batch_size) + \", Minibatch Loss= \" + \\\n",
    "                  \"{:.6f}\".format(loss) + \", Training Accuracy= \" + \\\n",
    "                  \"{:.5f}\".format(acc))\n",
    "        step += 1\n",
    "    print(\"Optimization Finished!\")\n",
    "\n",
    "    # Calculate accuracy for 250 mnist test images\n",
    "    print(\"Testing Accuracy:\", sess.run(accuracy, feed_dict={x: mnist.test.images[:250],y : mnist.test.labels[:250],keep_prob: 1.}))  "
   ]
  },
  {
   "cell_type": "code",
   "execution_count": null,
   "metadata": {
    "collapsed": true
   },
   "outputs": [],
   "source": []
  }
 ],
 "metadata": {
  "kernelspec": {
   "display_name": "Python 2",
   "language": "python",
   "name": "python2"
  },
  "language_info": {
   "codemirror_mode": {
    "name": "ipython",
    "version": 2
   },
   "file_extension": ".py",
   "mimetype": "text/x-python",
   "name": "python",
   "nbconvert_exporter": "python",
   "pygments_lexer": "ipython2",
   "version": "2.7.12"
  }
 },
 "nbformat": 4,
 "nbformat_minor": 2
}
